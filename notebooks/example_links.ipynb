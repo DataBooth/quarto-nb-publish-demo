{
    "cells": [
        {
            "cell_type": "raw",
            "metadata": {
                "vscode": {
                    "languageId": "raw"
                }
            },
            "source": [
                "---\n",
                "title: \"Example Notebook with Links to local files\"\n",
                "subtitle: \"Data is in subdirectory `data`\"\n",
                "author: \"Michael Booth\"\n",
                "date: \"2024-10-10\"\n",
                "format:\n",
                "  html:\n",
                "    toc: true\n",
                "    code-fold: true\n",
                "jupyter: python3\n",
                "---"
            ]
        },
        {
            "cell_type": "code",
            "execution_count": 1,
            "metadata": {},
            "outputs": [],
            "source": [
                "#| echo: false\n",
                "\n",
                "from pathlib import Path\n",
                "from IPython.display import display, Markdown\n",
                "\n",
                "def create_markdown_link(file_path, link_text=None):\n",
                "    \"\"\"\n",
                "    Creates a Markdown link for a given file path that works in both\n",
                "    Jupyter notebooks and when rendered to HTML by Quarto.\n",
                "\n",
                "    Parameters:\n",
                "    - file_path (str or Path): The path to the file, relative to the notebooks directory.\n",
                "    - link_text (str, optional): The text to display for the link.\n",
                "\n",
                "    Returns:\n",
                "    - tuple: (markdown_link, debug_info)\n",
                "    \"\"\"\n",
                "    # Convert to Path object if it's a string\n",
                "    file_path = Path(file_path)\n",
                "    \n",
                "    # Resolve the full path of the target file\n",
                "    full_path = (Path.cwd() / file_path).resolve()\n",
                "    \n",
                "    # Check if the file exists\n",
                "    if not full_path.exists():\n",
                "        raise FileNotFoundError(f\"The file {full_path} does not exist.\")\n",
                "    \n",
                "    # Use the file name as link_text if not provided\n",
                "    if link_text is None:\n",
                "        link_text = file_path.name\n",
                "\n",
                "    # Create Markdown link\n",
                "    markdown_link = f\"[{link_text}]({file_path})\"\n",
                "\n",
                "    # Debug information\n",
                "    debug_info = {\n",
                "        \"current_dir\": str(Path.cwd()),\n",
                "        \"full_path\": str(full_path),\n",
                "        \"relative_path\": str(file_path),\n",
                "        \"file_path_input\": str(file_path)\n",
                "    }\n",
                "\n",
                "    return markdown_link, debug_info"
            ]
        },
        {
            "cell_type": "code",
            "execution_count": 2,
            "metadata": {},
            "outputs": [],
            "source": [
                "#| echo: false\n",
                "\n",
                "example_csv = Path(\"data/example.csv\")\n",
                "assert example_csv.is_file()"
            ]
        },
        {
            "cell_type": "markdown",
            "metadata": {},
            "source": [
                "### Example of linking to a local file - both from within the actual notebook and also once published (rendered) by Quarto."
            ]
        },
        {
            "cell_type": "code",
            "execution_count": 4,
            "metadata": {},
            "outputs": [
                {
                    "name": "stdout",
                    "output_type": "stream",
                    "text": [
                        "Markdown Link:\n"
                    ]
                },
                {
                    "data": {
                        "text/markdown": [
                            "[example.csv](data/example.csv)"
                        ],
                        "text/plain": [
                            "<IPython.core.display.Markdown object>"
                        ]
                    },
                    "metadata": {},
                    "output_type": "display_data"
                },
                {
                    "name": "stdout",
                    "output_type": "stream",
                    "text": [
                        "\n",
                        "Debug Information:\n",
                        "current_dir: /Users/mjboothaus/quarto-nb-publish-demo/notebooks\n",
                        "full_path: /Users/mjboothaus/quarto-nb-publish-demo/notebooks/data/example.csv\n",
                        "relative_path: data/example.csv\n",
                        "file_path_input: data/example.csv\n"
                    ]
                }
            ],
            "source": [
                "#| echo: false\n",
                "\n",
                "# Example usage\n",
                "try:\n",
                "    #markdown_link, debug_info = create_markdown_link(\"data/example.csv\", \"Example CSV File\")\n",
                "    markdown_link, debug_info = create_markdown_link(example_csv)\n",
                "    \n",
                "    print(\"Markdown Link:\")\n",
                "    display(Markdown(markdown_link))\n",
                "    \n",
                "    print(\"\\nDebug Information:\")\n",
                "    for key, value in debug_info.items():\n",
                "        print(f\"{key}: {value}\")\n",
                "except FileNotFoundError as e:\n",
                "    print(f\"Error: {e}\")"
            ]
        },
        {
            "cell_type": "code",
            "execution_count": null,
            "metadata": {},
            "outputs": [],
            "source": [
                "#| echo: false\n",
                "\n",
                "create_markdown_link(example_csv)"
            ]
        }
    ],
    "metadata": {
        "kernelspec": {
            "display_name": ".venv",
            "language": "python",
            "name": "python3"
        },
        "language_info": {
            "codemirror_mode": {
                "name": "ipython",
                "version": 3
            },
            "file_extension": ".py",
            "mimetype": "text/x-python",
            "name": "python",
            "nbconvert_exporter": "python",
            "pygments_lexer": "ipython3",
            "version": "3.11.10"
        }
    },
    "nbformat": 4,
    "nbformat_minor": 2
}
