{
 "cells": [
  {
   "cell_type": "raw",
   "metadata": {
    "vscode": {
     "languageId": "raw"
    }
   },
   "source": [
    "---\n",
    "title: \"Example Notebook with Links to local files\"\n",
    "author: \"Michael Booth\"\n",
    "date: \"2024-10-10\"\n",
    "format:\n",
    "  html:\n",
    "    toc: true\n",
    "    code-fold: true\n",
    "jupyter: python3\n",
    "---"
   ]
  },
  {
   "cell_type": "code",
   "execution_count": 1,
   "metadata": {},
   "outputs": [],
   "source": [
    "#| echo: false\n",
    "from pathlib import Path\n",
    "from IPython.display import display, Markdown, FileLink\n",
    "import os\n",
    "\n",
    "def find_project_root(current_path=None):\n",
    "    \"\"\"Find the project root by looking for pyproject.toml\"\"\"\n",
    "    if current_path is None:\n",
    "        current_path = Path.cwd()\n",
    "    for parent in [current_path, *current_path.parents]:\n",
    "        if (parent / 'pyproject.toml').exists():\n",
    "            return parent\n",
    "    raise FileNotFoundError(\"Could not find project root (pyproject.toml not found)\")\n",
    "\n",
    "def create_markdown_link(file_path, link_text=None):\n",
    "    \"\"\"\n",
    "    Creates a Markdown link for a given file path that works in both\n",
    "    Jupyter notebooks and when rendered with Quarto.\n",
    "\n",
    "    Parameters:\n",
    "    - file_path (str or Path): The path to the file you want to link to.\n",
    "    - link_text (str, optional): The text to display for the link.\n",
    "\n",
    "    Returns:\n",
    "    - tuple: (jupyter_link, quarto_link, debug_info)\n",
    "    \"\"\"\n",
    "    # Find project root\n",
    "    try:\n",
    "        project_root = find_project_root()\n",
    "    except FileNotFoundError:\n",
    "        project_root = Path.cwd()\n",
    "\n",
    "    # Convert to Path object if it's a string\n",
    "    file_path = Path(file_path)\n",
    "    \n",
    "    # Resolve the full path of the target file\n",
    "    full_path = (project_root / file_path).resolve()\n",
    "    \n",
    "    # Check if the file exists\n",
    "    if not full_path.exists():\n",
    "        raise FileNotFoundError(f\"The file {full_path} does not exist.\")\n",
    "    \n",
    "    # Use the file name as link_text if not provided\n",
    "    if link_text is None:\n",
    "        link_text = file_path.name\n",
    "\n",
    "    # Create paths relative to project root\n",
    "    relative_to_root = full_path.relative_to(project_root)\n",
    "\n",
    "    # Create Jupyter link (using relative path)\n",
    "    jupyter_link = Markdown(f\"[{link_text}]({relative_to_root})\")\n",
    "\n",
    "    # Create Quarto link\n",
    "    quarto_link = f\"[{link_text}]({relative_to_root})\"\n",
    "\n",
    "    # Debug information\n",
    "    debug_info = {\n",
    "        \"project_root\": str(project_root),\n",
    "        \"full_file_path\": str(full_path),\n",
    "        \"relative_to_root\": str(relative_to_root),\n",
    "        \"current dir (cwd)\": str(Path.cwd()),\n",
    "        \"file_path_input\": str(file_path)\n",
    "    }\n",
    "\n",
    "    return jupyter_link, quarto_link, debug_info\n"
   ]
  },
  {
   "cell_type": "code",
   "execution_count": 2,
   "metadata": {},
   "outputs": [],
   "source": [
    "#| echo: false\n",
    "\n",
    "from pathlib import Path\n",
    "\n",
    "example_csv = Path.cwd().parent / \"data\" / \"example.csv\"\n",
    "assert example_csv.is_file()"
   ]
  },
  {
   "cell_type": "markdown",
   "metadata": {},
   "source": [
    "### Example of linking to a local file - both from within the actual notebook and also once published (rendered) by Quarto."
   ]
  },
  {
   "cell_type": "code",
   "execution_count": 3,
   "metadata": {},
   "outputs": [
    {
     "name": "stdout",
     "output_type": "stream",
     "text": [
      "Jupyter Link:\n"
     ]
    },
    {
     "data": {
      "text/markdown": [
       "[example.csv](data/example.csv)"
      ],
      "text/plain": [
       "<IPython.core.display.Markdown object>"
      ]
     },
     "metadata": {},
     "output_type": "display_data"
    },
    {
     "name": "stdout",
     "output_type": "stream",
     "text": [
      "\n",
      "Quarto Link:\n"
     ]
    },
    {
     "data": {
      "text/markdown": [
       "[example.csv](data/example.csv)"
      ],
      "text/plain": [
       "<IPython.core.display.Markdown object>"
      ]
     },
     "metadata": {},
     "output_type": "display_data"
    },
    {
     "name": "stdout",
     "output_type": "stream",
     "text": [
      "\n",
      "Debug Information:\n",
      "project_root: /Users/mjboothaus/quarto-nb-publish-demo\n",
      "full_file_path: /Users/mjboothaus/quarto-nb-publish-demo/data/example.csv\n",
      "relative_to_root: data/example.csv\n",
      "current dir (cwd): /Users/mjboothaus/quarto-nb-publish-demo/notebooks\n",
      "file_path_input: /Users/mjboothaus/quarto-nb-publish-demo/data/example.csv\n"
     ]
    }
   ],
   "source": [
    "#| echo: false\n",
    "\n",
    "\n",
    "# Example usage\n",
    "try:\n",
    "    jupyter_link, quarto_link, debug_info = create_markdown_link(example_csv)\n",
    "    \n",
    "    print(\"Jupyter Link:\")\n",
    "    display(jupyter_link)\n",
    "    \n",
    "    print(\"\\nQuarto Link:\")\n",
    "    display(Markdown(quarto_link))\n",
    "    \n",
    "    print(\"\\nDebug Information:\")\n",
    "    for key, value in debug_info.items():\n",
    "        print(f\"{key}: {value}\")\n",
    "except FileNotFoundError as e:\n",
    "    print(f\"Error: {e}\")"
   ]
  },
  {
   "cell_type": "code",
   "execution_count": 4,
   "metadata": {},
   "outputs": [
    {
     "data": {
      "text/plain": [
       "(<IPython.core.display.Markdown object>,\n",
       " '[example.csv](data/example.csv)',\n",
       " {'project_root': '/Users/mjboothaus/quarto-nb-publish-demo',\n",
       "  'full_file_path': '/Users/mjboothaus/quarto-nb-publish-demo/data/example.csv',\n",
       "  'relative_to_root': 'data/example.csv',\n",
       "  'current dir (cwd)': '/Users/mjboothaus/quarto-nb-publish-demo/notebooks',\n",
       "  'file_path_input': '/Users/mjboothaus/quarto-nb-publish-demo/data/example.csv'})"
      ]
     },
     "execution_count": 4,
     "metadata": {},
     "output_type": "execute_result"
    }
   ],
   "source": [
    "#| echo: false\n",
    "\n",
    "create_markdown_link(example_csv)"
   ]
  }
 ],
 "metadata": {
  "kernelspec": {
   "display_name": ".venv",
   "language": "python",
   "name": "python3"
  },
  "language_info": {
   "codemirror_mode": {
    "name": "ipython",
    "version": 3
   },
   "file_extension": ".py",
   "mimetype": "text/x-python",
   "name": "python",
   "nbconvert_exporter": "python",
   "pygments_lexer": "ipython3",
   "version": "3.11.9"
  }
 },
 "nbformat": 4,
 "nbformat_minor": 2
}
